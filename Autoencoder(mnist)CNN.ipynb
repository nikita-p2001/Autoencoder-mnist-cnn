{
 "cells": [
  {
   "cell_type": "code",
   "execution_count": 19,
   "metadata": {
    "id": "Ot2Z9YANy4GS"
   },
   "outputs": [],
   "source": [
    "import numpy as np\n",
    "import matplotlib.pyplot as plt\n",
    "from random import randint\n",
    "from keras import backend as K\n",
    "from keras.layers import Input, Dense, Conv2D, MaxPooling2D, UpSampling2D\n",
    "from keras.models import Model\n",
    "from keras.datasets import mnist\n",
    "from keras.callbacks import TensorBoard"
   ]
  },
  {
   "cell_type": "code",
   "execution_count": 20,
   "metadata": {
    "id": "CfiEwRG34L1c"
   },
   "outputs": [],
   "source": [
    "def load_data():\n",
    "    # defining the input image size \n",
    "    input_image = Input(shape =(28, 28, 1))\n",
    "      \n",
    "    # Loading the data and dividing the data into training and testing sets\n",
    "    (X_train, _), (X_test, _) = mnist.load_data()\n",
    "      \n",
    "    # Cleaning and reshaping the data as required by the model\n",
    "    X_train = X_train.astype('float32') / 255.\n",
    "    X_train = np.reshape(X_train, (len(X_train), 28, 28, 1))\n",
    "    X_test = X_test.astype('float32') / 255.\n",
    "    X_test = np.reshape(X_test, (len(X_test), 28, 28, 1))\n",
    "      \n",
    "    return X_train, X_test, input_image"
   ]
  },
  {
   "cell_type": "code",
   "execution_count": 21,
   "metadata": {
    "id": "WZcyQ9Yq62M2"
   },
   "outputs": [],
   "source": [
    "def build_network(input_image):\n",
    "      \n",
    "    # Building the encoder of the Auto-encoder\n",
    "    x = Conv2D(16, (3, 3), activation ='relu', padding ='same')(input_image)\n",
    "    x = MaxPooling2D((2, 2), padding ='same')(x)\n",
    "    x = Conv2D(8, (3, 3), activation ='relu', padding ='same')(x)\n",
    "    x = MaxPooling2D((2, 2), padding ='same')(x)\n",
    "    x = Conv2D(8, (3, 3), activation ='relu', padding ='same')(x)\n",
    "    encoded_layer = MaxPooling2D((2, 2), padding ='same')(x)\n",
    "      \n",
    "    # Building the decoder of the Auto-encoder\n",
    "    x = Conv2D(8, (3, 3), activation ='relu', padding ='same')(encoded_layer)\n",
    "    x = UpSampling2D((2, 2))(x)\n",
    "    x = Conv2D(8, (3, 3), activation ='relu', padding ='same')(x)\n",
    "    x = UpSampling2D((2, 2))(x)\n",
    "    x = Conv2D(16, (3, 3), activation ='relu')(x)\n",
    "    x = UpSampling2D((2, 2))(x)\n",
    "    decoded_layer = Conv2D(1, (3, 3), activation ='sigmoid', padding ='same')(x)\n",
    "      \n",
    "    return decoded_layer"
   ]
  },
  {
   "cell_type": "code",
   "execution_count": 22,
   "metadata": {
    "id": "fSW-tI8A7Evz"
   },
   "outputs": [],
   "source": [
    "def build_auto_encoder_model(X_train, X_test, input_image, decoded_layer):\n",
    "      \n",
    "    # Defining the parameters of the Auto-encoder\n",
    "    autoencoder = Model(input_image, decoded_layer)\n",
    "    autoencoder.compile(optimizer ='adam', loss ='binary_crossentropy')\n",
    "      \n",
    "    # Training the Auto-encoder\n",
    "    autoencoder.fit(X_train, X_train,\n",
    "                epochs = 15,\n",
    "                batch_size = 256,\n",
    "                shuffle = True,\n",
    "                validation_data =(X_test, X_test),\n",
    "                callbacks =[TensorBoard(log_dir ='/tmp / autoencoder')])\n",
    "      \n",
    "    return autoencoder"
   ]
  },
  {
   "cell_type": "code",
   "execution_count": 23,
   "metadata": {
    "id": "xDuJ-op9SZTd"
   },
   "outputs": [],
   "source": [
    "def visualize(model, X_test):\n",
    "      \n",
    "    # Reconstructing the encoded images\n",
    "    reconstructed_images = model.predict(X_test)\n",
    "      \n",
    "    plt.figure(figsize =(20, 4))\n",
    "    for i in range(1, 11):\n",
    "          \n",
    "        # Generating a random to get random results\n",
    "        rand_num = randint(0, 10001)\n",
    "      \n",
    "        # To display the original image\n",
    "        ax = plt.subplot(2, 10, i)\n",
    "        plt.imshow(X_test[rand_num].reshape(28, 28))\n",
    "        plt.gray()\n",
    "        ax.get_xaxis().set_visible(False)\n",
    "        ax.get_yaxis().set_visible(False)\n",
    "  \n",
    "        # To display the reconstructed image\n",
    "        ax = plt.subplot(2, 10, i + 10)\n",
    "        plt.imshow(reconstructed_images[rand_num].reshape(28, 28))\n",
    "        plt.gray()\n",
    "        ax.get_xaxis().set_visible(False)\n",
    "        ax.get_yaxis().set_visible(False)\n",
    "          \n",
    "    # Displaying the plot\n",
    "    plt.show()"
   ]
  },
  {
   "cell_type": "code",
   "execution_count": 24,
   "metadata": {
    "id": "vPgzENlF2Ejc"
   },
   "outputs": [],
   "source": [
    "X_train, X_test, input_image = load_data()"
   ]
  },
  {
   "cell_type": "code",
   "execution_count": 25,
   "metadata": {
    "id": "ly1I8YaT61Lt"
   },
   "outputs": [],
   "source": [
    "decoded_layer = build_network(input_image)"
   ]
  },
  {
   "cell_type": "code",
   "execution_count": 26,
   "metadata": {
    "colab": {
     "base_uri": "https://localhost:8080/"
    },
    "id": "f0QvgxGsSeb2",
    "outputId": "a74708f4-be73-4dfe-ea1f-1ce87cc1a47d"
   },
   "outputs": [
    {
     "name": "stdout",
     "output_type": "stream",
     "text": [
      "Epoch 1/15\n",
      "235/235 [==============================] - 3s 9ms/step - loss: 0.2614 - val_loss: 0.1719\n",
      "Epoch 2/15\n",
      "235/235 [==============================] - 2s 8ms/step - loss: 0.1567 - val_loss: 0.1428\n",
      "Epoch 3/15\n",
      "235/235 [==============================] - 2s 8ms/step - loss: 0.1374 - val_loss: 0.1306\n",
      "Epoch 4/15\n",
      "235/235 [==============================] - 2s 8ms/step - loss: 0.1278 - val_loss: 0.1228\n",
      "Epoch 5/15\n",
      "235/235 [==============================] - 2s 8ms/step - loss: 0.1220 - val_loss: 0.1188\n",
      "Epoch 6/15\n",
      "235/235 [==============================] - 2s 8ms/step - loss: 0.1183 - val_loss: 0.1155\n",
      "Epoch 7/15\n",
      "235/235 [==============================] - 2s 8ms/step - loss: 0.1156 - val_loss: 0.1132\n",
      "Epoch 8/15\n",
      "235/235 [==============================] - 2s 8ms/step - loss: 0.1135 - val_loss: 0.1115\n",
      "Epoch 9/15\n",
      "235/235 [==============================] - 2s 8ms/step - loss: 0.1117 - val_loss: 0.1096\n",
      "Epoch 10/15\n",
      "235/235 [==============================] - 2s 8ms/step - loss: 0.1101 - val_loss: 0.1083\n",
      "Epoch 11/15\n",
      "235/235 [==============================] - 2s 8ms/step - loss: 0.1088 - val_loss: 0.1075\n",
      "Epoch 12/15\n",
      "235/235 [==============================] - 2s 9ms/step - loss: 0.1077 - val_loss: 0.1060\n",
      "Epoch 13/15\n",
      "235/235 [==============================] - 2s 8ms/step - loss: 0.1067 - val_loss: 0.1050\n",
      "Epoch 14/15\n",
      "235/235 [==============================] - 2s 8ms/step - loss: 0.1057 - val_loss: 0.1046\n",
      "Epoch 15/15\n",
      "235/235 [==============================] - 2s 8ms/step - loss: 0.1049 - val_loss: 0.1037\n"
     ]
    }
   ],
   "source": [
    "auto_encoder_model = build_auto_encoder_model(X_train,X_test,input_image,decoded_layer)"
   ]
  },
  {
   "cell_type": "code",
   "execution_count": 27,
   "metadata": {
    "colab": {
     "base_uri": "https://localhost:8080/",
     "height": 266
    },
    "id": "BoNlj4A6S2ye",
    "outputId": "f41fe315-dcd5-4b32-e7fc-16494f5f05ae"
   },
   "outputs": [
    {
     "name": "stdout",
     "output_type": "stream",
     "text": [
      "313/313 [==============================] - 1s 2ms/step\n"
     ]
    },
    {
     "data": {
      "image/png": "[encoded data removed]",
      "text/plain": [
       "<Figure size 1440x288 with 20 Axes>"
      ]
     },
     "metadata": {
      "needs_background": "light"
     },
     "output_type": "display_data"
    }
   ],
   "source": [
    "visualize(auto_encoder_model, X_test)"
   ]
  }
 ],
 "metadata": {
  "accelerator": "GPU",
  "colab": {
   "provenance": []
  },
  "gpuClass": "standard",
  "kernelspec": {
   "display_name": "Python 3 (ipykernel)",
   "language": "python",
   "name": "python3"
  },
  "language_info": {
   "codemirror_mode": {
    "name": "ipython",
    "version": 3
   },
   "file_extension": ".py",
   "mimetype": "text/x-python",
   "name": "python",
   "nbconvert_exporter": "python",
   "pygments_lexer": "ipython3",
   "version": "3.9.7"
  }
 },
 "nbformat": 4,
 "nbformat_minor": 1
}
